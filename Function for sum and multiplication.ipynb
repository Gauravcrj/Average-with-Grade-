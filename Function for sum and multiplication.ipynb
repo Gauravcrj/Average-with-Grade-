{
 "cells": [
  {
   "cell_type": "code",
   "execution_count": 11,
   "id": "22bd1786",
   "metadata": {},
   "outputs": [],
   "source": [
    "def sum(a,b):\n",
    "     total=a+b\n",
    "     print(\"total:\",total)\n",
    "     return total\n",
    "def mul(a,b):\n",
    "    multi=a*b\n",
    "    print(\"Product:\",multi)\n",
    "    return multi\n",
    "\n",
    "\n"
   ]
  },
  {
   "cell_type": "code",
   "execution_count": 9,
   "id": "814a798d",
   "metadata": {},
   "outputs": [
    {
     "name": "stdout",
     "output_type": "stream",
     "text": [
      "total: 60\n"
     ]
    },
    {
     "data": {
      "text/plain": [
       "60"
      ]
     },
     "execution_count": 9,
     "metadata": {},
     "output_type": "execute_result"
    }
   ],
   "source": [
    "sum(30,30)"
   ]
  },
  {
   "cell_type": "code",
   "execution_count": 12,
   "id": "fbe8ec78",
   "metadata": {},
   "outputs": [
    {
     "name": "stdout",
     "output_type": "stream",
     "text": [
      "Product: 300\n"
     ]
    },
    {
     "data": {
      "text/plain": [
       "300"
      ]
     },
     "execution_count": 12,
     "metadata": {},
     "output_type": "execute_result"
    }
   ],
   "source": [
    "mul (10,30)"
   ]
  },
  {
   "cell_type": "code",
   "execution_count": 44,
   "id": "dd0a6eae",
   "metadata": {},
   "outputs": [],
   "source": [
    "\n",
    "def average_marks(marks):\n",
    "    total=0\n",
    "    for i in marks:\n",
    "        total=total+i\n",
    "        n=len(marks)\n",
    "    avg=total/n    \n",
    "    print(\"Average marks of student :\",avg)\n",
    "    if avg>90 :\n",
    "        grade=\"A+\"\n",
    "    elif avg>80 and avg<=90:\n",
    "        grade=\"A\"\n",
    "    elif avg>70 and avg<=80: \n",
    "        grade=\"B+\"\n",
    "    elif avg>60 and avg<=70:\n",
    "        grade=\"B\"\n",
    "    elif avg>50 and avg<=60:\n",
    "        grade=\"c+\"\n",
    "    elif avg>40 and avg<=50:\n",
    "        grade=\"C\"\n",
    "    else:\n",
    "        grade=\"Fail\"\n",
    "    print(\"Grade Secured:  \",grade)    \n",
    "    return avg,grade"
   ]
  },
  {
   "cell_type": "code",
   "execution_count": null,
   "id": "975d3f87",
   "metadata": {},
   "outputs": [],
   "source": []
  },
  {
   "cell_type": "code",
   "execution_count": 45,
   "id": "1051b6bf",
   "metadata": {},
   "outputs": [
    {
     "name": "stdout",
     "output_type": "stream",
     "text": [
      "Average marks of student : 38.2\n",
      "Grade Secured:   Fail\n"
     ]
    },
    {
     "data": {
      "text/plain": [
       "(38.2, 'Fail')"
      ]
     },
     "execution_count": 45,
     "metadata": {},
     "output_type": "execute_result"
    }
   ],
   "source": [
    "average_marks(marks)"
   ]
  },
  {
   "cell_type": "code",
   "execution_count": null,
   "id": "28cef9b8",
   "metadata": {},
   "outputs": [],
   "source": []
  },
  {
   "cell_type": "code",
   "execution_count": null,
   "id": "a2138503",
   "metadata": {},
   "outputs": [],
   "source": []
  }
 ],
 "metadata": {
  "kernelspec": {
   "display_name": "Python 3",
   "language": "python",
   "name": "python3"
  }
 },
 "nbformat": 4,
 "nbformat_minor": 5
}
